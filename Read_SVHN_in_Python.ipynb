{
  "nbformat": 4,
  "nbformat_minor": 0,
  "metadata": {
    "colab": {
      "provenance": []
    },
    "kernelspec": {
      "name": "python3",
      "display_name": "Python 3"
    },
    "accelerator": "GPU"
  },
  "cells": [
    {
      "cell_type": "code",
      "metadata": {
        "id": "GUHAkodS8LDe",
        "colab": {
          "base_uri": "https://localhost:8080/",
          "height": 121
        },
        "outputId": "fcba7553-b750-4ba5-c4c5-72fe6df9e30e"
      },
      "source": [
        "from google.colab import drive\n",
        "drive.mount('/content/gdrive')"
      ],
      "execution_count": null,
      "outputs": [
        {
          "output_type": "stream",
          "text": [
            "Go to this URL in a browser: https://accounts.google.com/o/oauth2/auth?client_id=947318989803-6bn6qk8qdgf4n4g3pfee6491hc0brc4i.apps.googleusercontent.com&redirect_uri=urn%3Aietf%3Awg%3Aoauth%3A2.0%3Aoob&scope=email%20https%3A%2F%2Fwww.googleapis.com%2Fauth%2Fdocs.test%20https%3A%2F%2Fwww.googleapis.com%2Fauth%2Fdrive%20https%3A%2F%2Fwww.googleapis.com%2Fauth%2Fdrive.photos.readonly%20https%3A%2F%2Fwww.googleapis.com%2Fauth%2Fpeopleapi.readonly&response_type=code\n",
            "\n",
            "Enter your authorization code:\n",
            "··········\n",
            "Mounted at /content/gdrive\n"
          ],
          "name": "stdout"
        }
      ]
    },
    {
      "cell_type": "code",
      "metadata": {
        "id": "8JzE6iQ2-MZP"
      },
      "source": [
        "!cp gdrive/'My Drive'/colab_stuff/BUSNUM/digitStructExtra.json .\n",
        "!cp gdrive/'My Drive'/colab_stuff/BUSNUM/digitStructTest.json .\n",
        "!cp gdrive/'My Drive'/colab_stuff/BUSNUM/json.json ."
      ],
      "execution_count": null,
      "outputs": []
    },
    {
      "cell_type": "code",
      "metadata": {
        "id": "3VsAFuiy-N5n",
        "colab": {
          "base_uri": "https://localhost:8080/",
          "height": 571
        },
        "outputId": "1fef6441-4393-4f3b-9382-26d74ca029e7"
      },
      "source": [
        "!wget http://ufldl.stanford.edu/housenumbers/train.tar.gz\n",
        "!wget http://ufldl.stanford.edu/housenumbers/test.tar.gz \n",
        "!wget http://ufldl.stanford.edu/housenumbers/extra.tar.gz"
      ],
      "execution_count": null,
      "outputs": [
        {
          "output_type": "stream",
          "text": [
            "--2019-09-22 12:38:12--  http://ufldl.stanford.edu/housenumbers/train.tar.gz\n",
            "Resolving ufldl.stanford.edu (ufldl.stanford.edu)... 171.64.68.10\n",
            "Connecting to ufldl.stanford.edu (ufldl.stanford.edu)|171.64.68.10|:80... connected.\n",
            "HTTP request sent, awaiting response... 200 OK\n",
            "Length: 404141560 (385M) [application/x-gzip]\n",
            "Saving to: ‘train.tar.gz’\n",
            "\n",
            "train.tar.gz        100%[===================>] 385.42M  26.4MB/s    in 17s     \n",
            "\n",
            "2019-09-22 12:38:29 (22.6 MB/s) - ‘train.tar.gz’ saved [404141560/404141560]\n",
            "\n",
            "--2019-09-22 12:38:30--  http://ufldl.stanford.edu/housenumbers/test.tar.gz\n",
            "Resolving ufldl.stanford.edu (ufldl.stanford.edu)... 171.64.68.10\n",
            "Connecting to ufldl.stanford.edu (ufldl.stanford.edu)|171.64.68.10|:80... connected.\n",
            "HTTP request sent, awaiting response... 200 OK\n",
            "Length: 276555967 (264M) [application/x-gzip]\n",
            "Saving to: ‘test.tar.gz’\n",
            "\n",
            "test.tar.gz         100%[===================>] 263.74M  13.9MB/s    in 15s     \n",
            "\n",
            "2019-09-22 12:38:46 (17.3 MB/s) - ‘test.tar.gz’ saved [276555967/276555967]\n",
            "\n",
            "--2019-09-22 12:38:47--  http://ufldl.stanford.edu/housenumbers/extra.tar.gz\n",
            "Resolving ufldl.stanford.edu (ufldl.stanford.edu)... 171.64.68.10\n",
            "Connecting to ufldl.stanford.edu (ufldl.stanford.edu)|171.64.68.10|:80... connected.\n",
            "HTTP request sent, awaiting response... 200 OK\n",
            "Length: 1955489752 (1.8G) [application/x-gzip]\n",
            "Saving to: ‘extra.tar.gz’\n",
            "\n",
            "extra.tar.gz        100%[===================>]   1.82G  19.7MB/s    in 1m 52s  \n",
            "\n",
            "2019-09-22 12:40:39 (16.7 MB/s) - ‘extra.tar.gz’ saved [1955489752/1955489752]\n",
            "\n"
          ],
          "name": "stdout"
        }
      ]
    },
    {
      "cell_type": "code",
      "metadata": {
        "id": "-nozO6Ti-UzP"
      },
      "source": [
        "%%capture\n",
        "!tar -xvzf train.tar.gz \n",
        "!tar -xvzf test.tar.gz \n",
        "!tar -xvzf extra.tar.gz "
      ],
      "execution_count": null,
      "outputs": []
    },
    {
      "cell_type": "code",
      "metadata": {
        "id": "ko7Oo-IN8RR3",
        "colab": {
          "base_uri": "https://localhost:8080/",
          "height": 154
        },
        "outputId": "081edf03-bb8f-4efd-efe7-5795a977577f"
      },
      "source": [
        "def imShow(path):\n",
        "  import cv2\n",
        "  import matplotlib.pyplot as plt\n",
        "  %matplotlib inline\n",
        "\n",
        "  image = cv2.imread(path)\n",
        "  height, width = image.shape[:2]\n",
        "  resized_image = cv2.resize(image,(3*width, 3*height), interpolation = cv2.INTER_CUBIC)\n",
        "\n",
        "  fig = plt.gcf()\n",
        "  fig.set_size_inches(18, 10)\n",
        "  plt.axis(\"off\")\n",
        "  #plt.rcParams['figure.figsize'] = [10, 5]\n",
        "  plt.imshow(cv2.cvtColor(resized_image, cv2.COLOR_BGR2RGB))\n",
        "\n",
        "def imShowCv(image):\n",
        "  import cv2\n",
        "  import matplotlib.pyplot as plt\n",
        "  %matplotlib inline\n",
        "\n",
        "  height, width = image.shape[:2]\n",
        "  resized_image = cv2.resize(image,(3*width, 3*height), interpolation = cv2.INTER_CUBIC)\n",
        "\n",
        "  fig = plt.gcf()\n",
        "  fig.set_size_inches(18, 10)\n",
        "  plt.axis(\"off\")\n",
        "  #plt.rcParams['figure.figsize'] = [10, 5]\n",
        "  plt.imshow(cv2.cvtColor(resized_image, cv2.COLOR_BGR2RGB))\n",
        "\n",
        "  \n",
        "  \n",
        "import json\n",
        "with open('json.json') as f:\n",
        "    dataTrain = json.load(f)\n",
        "with open('digitStructExtra.json') as f:\n",
        "    dataExtra = json.load(f)\n",
        "with open('digitStructTest.json') as f:\n",
        "    dataTest = json.load(f)\n",
        "    \n",
        "    \n",
        "    \n",
        "print(dataTrain[0])\n",
        "\n",
        "for i in range(len(dataTrain)):\n",
        "  dataTrain[i]['filename']='train/'+dataTrain[i]['filename']\n",
        "for i in range(len(dataExtra)):\n",
        "  dataExtra[i]['filename']='extra/'+dataExtra[i]['filename']\n",
        "for i in range(len(dataTest)):\n",
        "  dataTest[i]['filename']='test/'+dataTest[i]['filename']\n",
        "\n",
        "\n",
        "print(dataTrain[0])\n",
        "\n",
        "\n",
        "print(dataExtra[255])\n",
        "print(dataTest[242])\n",
        "\n",
        "\n",
        "\n",
        "#IMPORTANT LINE THAT INCLUDES dataExtra to dataTrain\n",
        "dataList = dataTrain +dataExtra\n",
        "print(len(dataList))\n",
        "\n",
        "#Uncomment this line to include the test set in dataList\n",
        "#dataList +=dataTest\n",
        "\n",
        "print(len(dataList))\n",
        "print(len(dataTest))\n",
        "\n",
        "\n",
        "\n",
        "  \n",
        "  \n",
        "\n",
        "  \n",
        "  \n"
      ],
      "execution_count": null,
      "outputs": [
        {
          "output_type": "stream",
          "text": [
            "{'filename': '1.png', 'boxes': [{'height': 219.0, 'label': 1.0, 'left': 246.0, 'top': 77.0, 'width': 81.0}, {'height': 219.0, 'label': 9.0, 'left': 323.0, 'top': 81.0, 'width': 96.0}]}\n",
            "{'filename': 'train/1.png', 'boxes': [{'height': 219.0, 'label': 1.0, 'left': 246.0, 'top': 77.0, 'width': 81.0}, {'height': 219.0, 'label': 9.0, 'left': 323.0, 'top': 81.0, 'width': 96.0}]}\n",
            "{'filename': 'extra/256.png', 'boxes': [{'height': 57.0, 'label': 3.0, 'left': 16.0, 'top': 22.0, 'width': 32.0}, {'height': 57.0, 'label': 9.0, 'left': 58.0, 'top': 21.0, 'width': 31.0}, {'height': 57.0, 'label': 2.0, 'left': 100.0, 'top': 22.0, 'width': 37.0}]}\n",
            "{'filename': 'test/243.png', 'boxes': [{'height': 54.0, 'label': 3.0, 'left': 157.0, 'top': 135.0, 'width': 39.0}, {'height': 54.0, 'label': 2.0, 'left': 194.0, 'top': 135.0, 'width': 30.0}, {'height': 54.0, 'label': 2.0, 'left': 222.0, 'top': 135.0, 'width': 24.0}]}\n",
            "235755\n",
            "235755\n",
            "13068\n"
          ],
          "name": "stdout"
        }
      ]
    },
    {
      "cell_type": "code",
      "metadata": {
        "id": "Hh-iBcx5TYOp",
        "colab": {
          "base_uri": "https://localhost:8080/",
          "height": 34
        },
        "outputId": "fec7eff9-7a05-4ecb-9145-e131017bf72b"
      },
      "source": [
        "import os\n",
        "\n",
        "print(len(os.listdir('extra'))+len(os.listdir('train'))+len(os.listdir('test')))"
      ],
      "execution_count": null,
      "outputs": [
        {
          "output_type": "stream",
          "text": [
            "248829\n"
          ],
          "name": "stdout"
        }
      ]
    },
    {
      "cell_type": "code",
      "metadata": {
        "id": "K8TaW_k3T1Mk",
        "colab": {
          "base_uri": "https://localhost:8080/",
          "height": 34
        },
        "outputId": "6ed223b2-944e-48f9-ba38-920ac0657909"
      },
      "source": [
        "n=0\n",
        "\n",
        "for dataEntry in dataList:\n",
        "  if len(dataEntry['boxes'])==7:\n",
        "    n+=1\n",
        "\n",
        "print(n)\n",
        "  \n",
        "\n",
        "#14522 #89856 #115480 #15772 #124 #1"
      ],
      "execution_count": null,
      "outputs": [
        {
          "output_type": "stream",
          "text": [
            "0\n"
          ],
          "name": "stdout"
        }
      ]
    },
    {
      "cell_type": "code",
      "metadata": {
        "id": "2DU4MBOl_DTv",
        "colab": {
          "base_uri": "https://localhost:8080/",
          "height": 714
        },
        "outputId": "a7f621c2-4bdf-493c-b741-7dbccf0d3727"
      },
      "source": [
        "import cv2\n",
        "\n",
        "print(len(dataList))\n",
        "print(len(dataTest))\n",
        "\n",
        "item = dataList[200000]\n",
        "\n",
        "\n",
        "print(item)\n",
        "\n",
        "image = cv2.imread(item['filename'])\n",
        "\n",
        "\n",
        "\n",
        "\n",
        "\n",
        "\n",
        "for box in item['boxes']:\n",
        "  print(box)\n",
        "  \n",
        "  left = int(box['left'])\n",
        "  top = int(box['top'])\n",
        "  right = int(box['left'] + box['width'])\n",
        "  bottom = int(box['top'] + box['height'])\n",
        "  \n",
        "  label = int(box['label'])\n",
        "  \n",
        "  #IF LABEL = 10, CHANGE IT TO ZERO\n",
        "  if label == 10:\n",
        "    label = 0\n",
        "  \n",
        "  \n",
        "  \n",
        "  cv2.putText(image,str(label),  (left, top), cv2.FONT_HERSHEY_SIMPLEX, 1,(255, 0, 255), 1)\n",
        "  cv2.rectangle(image, (left, top), (right, bottom), (255, 255, 255), 2)\n",
        "  \n",
        "  \n",
        "  \n",
        "imShowCv(image)\n",
        "\n",
        "\n",
        "\n",
        "\n"
      ],
      "execution_count": null,
      "outputs": [
        {
          "output_type": "stream",
          "text": [
            "235755\n",
            "13068\n",
            "{'filename': 'extra/166599.png', 'boxes': [{'height': 23.0, 'label': 3.0, 'left': 8.0, 'top': 9.0, 'width': 13.0}, {'height': 23.0, 'label': 3.0, 'left': 20.0, 'top': 8.0, 'width': 13.0}, {'height': 23.0, 'label': 2.0, 'left': 33.0, 'top': 9.0, 'width': 13.0}]}\n",
            "{'height': 23.0, 'label': 3.0, 'left': 8.0, 'top': 9.0, 'width': 13.0}\n",
            "{'height': 23.0, 'label': 3.0, 'left': 20.0, 'top': 8.0, 'width': 13.0}\n",
            "{'height': 23.0, 'label': 2.0, 'left': 33.0, 'top': 9.0, 'width': 13.0}\n"
          ],
          "name": "stdout"
        },
        {
          "output_type": "display_data",
          "data": {
            "image/png": "[encoded data removed]",
            "text/plain": [
              "<Figure size 1296x720 with 1 Axes>"
            ]
          },
          "metadata": {
            "tags": []
          }
        }
      ]
    }
  ]
}